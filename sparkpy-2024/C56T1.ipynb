{
 "cells": [
  {
   "cell_type": "code",
   "id": "initial_id",
   "metadata": {
    "collapsed": true,
    "ExecuteTime": {
     "end_time": "2025-09-15T09:35:18.161141Z",
     "start_time": "2025-09-15T09:35:18.151187Z"
    }
   },
   "source": [
    "a=1\n",
    "b=2"
   ],
   "outputs": [],
   "execution_count": 2
  },
  {
   "metadata": {
    "ExecuteTime": {
     "end_time": "2025-09-15T09:36:15.925726Z",
     "start_time": "2025-09-15T09:36:15.919146Z"
    }
   },
   "cell_type": "code",
   "source": [
    "if a>b:\n",
    "    print(\"a\")\n",
    "elif a>0:\n",
    "    print(\"a>0\")\n",
    "else:\n",
    "    print(\"b\")"
   ],
   "id": "2a7eabc831e66849",
   "outputs": [
    {
     "name": "stdout",
     "output_type": "stream",
     "text": [
      "a>0\n"
     ]
    }
   ],
   "execution_count": 4
  },
  {
   "metadata": {
    "ExecuteTime": {
     "end_time": "2025-09-15T09:44:32.751111Z",
     "start_time": "2025-09-15T09:44:32.742731Z"
    }
   },
   "cell_type": "code",
   "source": [
    "for i in range(1,11):\n",
    "    print(i)"
   ],
   "id": "db60d5d3e0f61184",
   "outputs": [
    {
     "name": "stdout",
     "output_type": "stream",
     "text": [
      "1\n",
      "2\n",
      "3\n",
      "4\n",
      "5\n",
      "6\n",
      "7\n",
      "8\n",
      "9\n",
      "10\n"
     ]
    }
   ],
   "execution_count": 5
  },
  {
   "metadata": {},
   "cell_type": "code",
   "outputs": [],
   "execution_count": null,
   "source": "",
   "id": "1811cc0fae81b244"
  }
 ],
 "metadata": {
  "kernelspec": {
   "display_name": "Python 3",
   "language": "python",
   "name": "python3"
  },
  "language_info": {
   "codemirror_mode": {
    "name": "ipython",
    "version": 2
   },
   "file_extension": ".py",
   "mimetype": "text/x-python",
   "name": "python",
   "nbconvert_exporter": "python",
   "pygments_lexer": "ipython2",
   "version": "2.7.6"
  }
 },
 "nbformat": 4,
 "nbformat_minor": 5
}
